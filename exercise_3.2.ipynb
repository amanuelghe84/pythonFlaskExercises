{
 "cells": [
  {
   "cell_type": "markdown",
   "metadata": {},
   "source": [
    "### Exercise: Interacting with the To-Do API using Python Requests\n",
    "\n",
    "Write a Python script to interact with the To-Do API:\n",
    "\n",
    "1. **Retrieve All To-Dos**: Use the `GET /todos` endpoint to fetch and display all to-do items.\n",
    "\n",
    "2. **Add a New To-Do**: Use the `POST /todos` endpoint to add a new to-do item. The script should prompt the user for the task description.\n",
    "\n",
    "3. **Update an Existing To-Do**: Use the `PUT /todos/<id>` endpoint to mark a specific to-do item as completed. The script should ask the user for the ID of the to-do item to update.\n",
    "\n",
    "4. **Delete a To-Do**: Use the `DELETE /todos/<id>` endpoint to delete a specific to-do item. The script should prompt the user for the ID of the to-do item to delete.\n",
    "\n",
    "---\n",
    " \n"
   ]
  },
  {
   "cell_type": "code",
   "execution_count": 1,
   "metadata": {},
   "outputs": [
    {
     "name": "stdout",
     "output_type": "stream",
     "text": [
      "Defaulting to user installation because normal site-packages is not writeable\n",
      "Requirement already satisfied: requests in /home/adam/.local/lib/python3.11/site-packages (2.32.3)\n",
      "Requirement already satisfied: charset-normalizer<4,>=2 in /home/adam/.local/lib/python3.11/site-packages (from requests) (3.4.0)\n",
      "Requirement already satisfied: idna<4,>=2.5 in /home/adam/.local/lib/python3.11/site-packages (from requests) (3.10)\n",
      "Requirement already satisfied: urllib3<3,>=1.21.1 in /home/adam/.local/lib/python3.11/site-packages (from requests) (2.2.3)\n",
      "Requirement already satisfied: certifi>=2017.4.17 in /home/adam/.local/lib/python3.11/site-packages (from requests) (2024.12.14)\n",
      "Note: you may need to restart the kernel to use updated packages.\n"
     ]
    }
   ],
   "source": [
    "%pip install requests --break-system-packages"
   ]
  }
 ],
 "metadata": {
  "kernelspec": {
   "display_name": "Python 3",
   "language": "python",
   "name": "python3"
  },
  "language_info": {
   "codemirror_mode": {
    "name": "ipython",
    "version": 3
   },
   "file_extension": ".py",
   "mimetype": "text/x-python",
   "name": "python",
   "nbconvert_exporter": "python",
   "pygments_lexer": "ipython3",
   "version": "3.11.2"
  }
 },
 "nbformat": 4,
 "nbformat_minor": 2
}
