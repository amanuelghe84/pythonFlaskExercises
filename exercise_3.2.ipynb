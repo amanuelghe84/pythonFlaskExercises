{
 "cells": [
  {
   "cell_type": "markdown",
   "metadata": {},
   "source": [
    "### Exercise: Interacting with the To-Do API using Python Requests\n",
    "\n",
    "Write a Python script to interact with the To-Do API:\n",
    "\n",
    "1. **Retrieve All To-Dos**: Use the `GET /todos` endpoint to fetch and display all to-do items.\n",
    "\n",
    "2. **Add a New To-Do**: Use the `POST /todos` endpoint to add a new to-do item. The script should prompt the user for the task description.\n",
    "\n",
    "3. **Update an Existing To-Do**: Use the `PUT /todos/<id>` endpoint to mark a specific to-do item as completed. The script should ask the user for the ID of the to-do item to update.\n",
    "\n",
    "4. **Delete a To-Do**: Use the `DELETE /todos/<id>` endpoint to delete a specific to-do item. The script should prompt the user for the ID of the to-do item to delete.\n",
    "\n",
    "---\n",
    " \n"
   ]
  },
  {
   "cell_type": "code",
   "execution_count": null,
   "metadata": {},
   "outputs": [],
   "source": [
    "%pip  install requests --break-system-packages"
   ]
  },
  {
   "cell_type": "code",
   "execution_count": 24,
   "metadata": {},
   "outputs": [],
   "source": [
    "import requests\n",
    "from http import HTTPStatus\n",
    "BASE_URL = \"http://localhost:5000\""
   ]
  },
  {
   "cell_type": "code",
   "execution_count": null,
   "metadata": {},
   "outputs": [],
   "source": [
    "# create posts /posts method POST\n",
    "todo_url = f\"{BASE_URL}/todo\"\n",
    "#\"http://localhost:5000/todo\"\n",
    "payload =  {\"id\":1, \"task\": \"my task\", \"is_completed\": True}\n",
    "#payload[\"id\"]\n",
    "response = requests.post(url=todo_url, json=payload)\n",
    "\n",
    "status_code = response.status_code \n",
    "\n",
    "if status_code == HTTPStatus.BAD_REQUEST:\n",
    "    display(response.json())\n",
    "    \n",
    "if status_code == HTTPStatus.CONFLICT:\n",
    "    display(response.json())\n",
    "    \n",
    "if status_code == HTTPStatus.CREATED:\n",
    "    display(response.json())"
   ]
  },
  {
   "cell_type": "code",
   "execution_count": null,
   "metadata": {},
   "outputs": [],
   "source": [
    "# get posts /posts method GET\n",
    "todo_id = 1\n",
    "todo_get_url = f\"{BASE_URL}/todo/{todo_id}\"\n",
    "\n",
    "response = requests.get(url=todo_get_url)\n",
    "status_code = response.status_code \n",
    "\n",
    "if status_code == HTTPStatus.NOT_FOUND:\n",
    "    display(response.json())\n",
    "    \n",
    "if status_code == HTTPStatus.OK:\n",
    "    display(response.json())"
   ]
  },
  {
   "cell_type": "code",
   "execution_count": null,
   "metadata": {},
   "outputs": [],
   "source": [
    "# get posts /posts method PUT\n",
    "todo_id = 1\n",
    "todo_put_url = f\"{BASE_URL}/todo/{todo_id}\"\n",
    "payload =  {\"task\": \"new task again\", \"is_completed\": False}\n",
    "\n",
    "response = requests.put(url=todo_put_url, json=payload)\n",
    "status_code = response.status_code \n",
    "\n",
    "\n",
    "if status_code == HTTPStatus.BAD_REQUEST:\n",
    "    display(response.json())\n",
    "    \n",
    "if status_code == HTTPStatus.NOT_FOUND:\n",
    "    display(response.json())\n",
    "    \n",
    "if status_code == HTTPStatus.OK:\n",
    "    display(response.json())"
   ]
  },
  {
   "cell_type": "code",
   "execution_count": null,
   "metadata": {},
   "outputs": [],
   "source": [
    "# get posts /posts method DELETE\n",
    "todo_id = 1\n",
    "todo_delete_url = f\"{BASE_URL}/todo/{todo_id}\"\n",
    "\n",
    "response = requests.delete(url=todo_delete_url)\n",
    "status_code = response.status_code \n",
    "\n",
    "\n",
    "if status_code == HTTPStatus.NOT_FOUND:\n",
    "    display(response.json())\n",
    "    \n",
    "    \n",
    "if status_code == HTTPStatus.NO_CONTENT:\n",
    "    display(response)"
   ]
  }
 ],
 "metadata": {
  "kernelspec": {
   "display_name": "Python 3",
   "language": "python",
   "name": "python3"
  },
  "language_info": {
   "codemirror_mode": {
    "name": "ipython",
    "version": 3
   },
   "file_extension": ".py",
   "mimetype": "text/x-python",
   "name": "python",
   "nbconvert_exporter": "python",
   "pygments_lexer": "ipython3",
   "version": "3.11.2"
  }
 },
 "nbformat": 4,
 "nbformat_minor": 2
}
